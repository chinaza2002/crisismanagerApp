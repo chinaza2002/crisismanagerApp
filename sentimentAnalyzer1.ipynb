{
  "nbformat": 4,
  "nbformat_minor": 0,
  "metadata": {
    "colab": {
      "provenance": [],
      "authorship_tag": "ABX9TyOFskbjn+309+y5KQ57trx5",
      "include_colab_link": true
    },
    "kernelspec": {
      "name": "python3",
      "display_name": "Python 3"
    },
    "language_info": {
      "name": "python"
    }
  },
  "cells": [
    {
      "cell_type": "markdown",
      "metadata": {
        "id": "view-in-github",
        "colab_type": "text"
      },
      "source": [
        "<a href=\"https://colab.research.google.com/github/chinaza2002/crisismanagerApp/blob/main/sentimentAnalyzer1.ipynb\" target=\"_parent\"><img src=\"https://colab.research.google.com/assets/colab-badge.svg\" alt=\"Open In Colab\"/></a>"
      ]
    },
    {
      "cell_type": "markdown",
      "source": [
        "# Add your login details\n",
        "\n",
        "1. Click on the 🔑 Secrets tab in the left panel.\n",
        "   \n",
        "   <img src=\"https://storage.googleapis.com/generativeai-downloads/images/secrets.jpg\" alt=\"The Secrets tab is found on the left panel.\" width=50%>\n",
        "  \n",
        "1. Create a new secret with the name username.\n",
        "\n",
        "2. Copy/paste your username into the Value input box of username.\n",
        "\n",
        "3. Toggle the button on the left to allow notebook access to the secret.\n",
        "\n",
        "4. Repeat the process two more times and name the secrets email and twitterPassword respectively."
      ],
      "metadata": {
        "id": "qSvHiG0qWHFV"
      }
    },
    {
      "cell_type": "markdown",
      "source": [
        "# Installation of Packages & Dependencies for Webscraping and Sentiment Analysis."
      ],
      "metadata": {
        "id": "52zpJ8NsXL_D"
      }
    },
    {
      "cell_type": "code",
      "source": [
        "!pip install twikit"
      ],
      "metadata": {
        "id": "izsGXNtVWxG-",
        "colab": {
          "base_uri": "https://localhost:8080/"
        },
        "outputId": "30324f5f-70a6-4d9d-c989-fe77c3fbb0f1"
      },
      "execution_count": null,
      "outputs": [
        {
          "metadata": {
            "tags": null
          },
          "name": "stdout",
          "output_type": "stream",
          "text": [
            "Collecting twikit\n",
            "  Downloading twikit-2.3.3-py3-none-any.whl.metadata (4.2 kB)\n",
            "Requirement already satisfied: httpx[socks] in /usr/local/lib/python3.11/dist-packages (from twikit) (0.28.1)\n",
            "Collecting filetype (from twikit)\n",
            "  Downloading filetype-1.2.0-py2.py3-none-any.whl.metadata (6.5 kB)\n",
            "Requirement already satisfied: beautifulsoup4 in /usr/local/lib/python3.11/dist-packages (from twikit) (4.13.4)\n",
            "Collecting pyotp (from twikit)\n",
            "  Downloading pyotp-2.9.0-py3-none-any.whl.metadata (9.8 kB)\n",
            "Requirement already satisfied: lxml in /usr/local/lib/python3.11/dist-packages (from twikit) (5.4.0)\n",
            "Collecting webvtt-py (from twikit)\n",
            "  Downloading webvtt_py-0.5.1-py3-none-any.whl.metadata (3.4 kB)\n",
            "Collecting m3u8 (from twikit)\n",
            "  Downloading m3u8-6.0.0-py3-none-any.whl.metadata (4.9 kB)\n",
            "Collecting Js2Py-3.13 (from twikit)\n",
            "  Downloading Js2Py_3.13-0.74.1-py3-none-any.whl.metadata (1.0 kB)\n",
            "Requirement already satisfied: soupsieve>1.2 in /usr/local/lib/python3.11/dist-packages (from beautifulsoup4->twikit) (2.7)\n",
            "Requirement already satisfied: typing-extensions>=4.0.0 in /usr/local/lib/python3.11/dist-packages (from beautifulsoup4->twikit) (4.14.0)\n",
            "Requirement already satisfied: anyio in /usr/local/lib/python3.11/dist-packages (from httpx[socks]->twikit) (4.9.0)\n",
            "Requirement already satisfied: certifi in /usr/local/lib/python3.11/dist-packages (from httpx[socks]->twikit) (2025.6.15)\n",
            "Requirement already satisfied: httpcore==1.* in /usr/local/lib/python3.11/dist-packages (from httpx[socks]->twikit) (1.0.9)\n",
            "Requirement already satisfied: idna in /usr/local/lib/python3.11/dist-packages (from httpx[socks]->twikit) (3.10)\n",
            "Collecting socksio==1.* (from httpx[socks]->twikit)\n",
            "  Downloading socksio-1.0.0-py3-none-any.whl.metadata (6.1 kB)\n",
            "Requirement already satisfied: h11>=0.16 in /usr/local/lib/python3.11/dist-packages (from httpcore==1.*->httpx[socks]->twikit) (0.16.0)\n",
            "Requirement already satisfied: tzlocal>=1.2 in /usr/local/lib/python3.11/dist-packages (from Js2Py-3.13->twikit) (5.3.1)\n",
            "Requirement already satisfied: six>=1.10 in /usr/local/lib/python3.11/dist-packages (from Js2Py-3.13->twikit) (1.17.0)\n",
            "Collecting pyjsparser>=2.5.1 (from Js2Py-3.13->twikit)\n",
            "  Downloading pyjsparser-2.7.1.tar.gz (24 kB)\n",
            "  Preparing metadata (setup.py) ... \u001b[?25l\u001b[?25hdone\n",
            "Requirement already satisfied: sniffio>=1.1 in /usr/local/lib/python3.11/dist-packages (from anyio->httpx[socks]->twikit) (1.3.1)\n",
            "Downloading twikit-2.3.3-py3-none-any.whl (82 kB)\n",
            "\u001b[2K   \u001b[90m━━━━━━━━━━━━━━━━━━━━━━━━━━━━━━━━━━━━━━━━\u001b[0m \u001b[32m82.9/82.9 kB\u001b[0m \u001b[31m3.1 MB/s\u001b[0m eta \u001b[36m0:00:00\u001b[0m\n",
            "\u001b[?25hDownloading filetype-1.2.0-py2.py3-none-any.whl (19 kB)\n",
            "Downloading socksio-1.0.0-py3-none-any.whl (12 kB)\n",
            "Downloading Js2Py_3.13-0.74.1-py3-none-any.whl (611 kB)\n",
            "\u001b[2K   \u001b[90m━━━━━━━━━━━━━━━━━━━━━━━━━━━━━━━━━━━━━━━━\u001b[0m \u001b[32m611.8/611.8 kB\u001b[0m \u001b[31m13.9 MB/s\u001b[0m eta \u001b[36m0:00:00\u001b[0m\n",
            "\u001b[?25hDownloading m3u8-6.0.0-py3-none-any.whl (24 kB)\n",
            "Downloading pyotp-2.9.0-py3-none-any.whl (13 kB)\n",
            "Downloading webvtt_py-0.5.1-py3-none-any.whl (19 kB)\n",
            "Building wheels for collected packages: pyjsparser\n",
            "  Building wheel for pyjsparser (setup.py) ... \u001b[?25l\u001b[?25hdone\n",
            "  Created wheel for pyjsparser: filename=pyjsparser-2.7.1-py3-none-any.whl size=25982 sha256=e45ec4cdc9ee5cf09ffad8221a559a0e9d16b82ede5aaa8f82afe223a29f4e40\n",
            "  Stored in directory: /root/.cache/pip/wheels/a5/9a/30/1003e89ab4555b81840ca46d361bf184f1e6ad880cae3b62a9\n",
            "Successfully built pyjsparser\n",
            "Installing collected packages: pyjsparser, filetype, webvtt-py, socksio, pyotp, m3u8, Js2Py-3.13, twikit\n",
            "Successfully installed Js2Py-3.13-0.74.1 filetype-1.2.0 m3u8-6.0.0 pyjsparser-2.7.1 pyotp-2.9.0 socksio-1.0.0 twikit-2.3.3 webvtt-py-0.5.1\n"
          ]
        }
      ]
    },
    {
      "cell_type": "code",
      "source": [
        "!pip install tensorflow"
      ],
      "metadata": {
        "colab": {
          "base_uri": "https://localhost:8080/"
        },
        "id": "D4xrp9Din9zQ",
        "outputId": "65061232-6bcf-428c-dc9f-4f192c7b1129"
      },
      "execution_count": null,
      "outputs": [
        {
          "output_type": "stream",
          "name": "stdout",
          "text": [
            "Requirement already satisfied: tensorflow in /usr/local/lib/python3.11/dist-packages (2.18.0)\n",
            "Requirement already satisfied: absl-py>=1.0.0 in /usr/local/lib/python3.11/dist-packages (from tensorflow) (1.4.0)\n",
            "Requirement already satisfied: astunparse>=1.6.0 in /usr/local/lib/python3.11/dist-packages (from tensorflow) (1.6.3)\n",
            "Requirement already satisfied: flatbuffers>=24.3.25 in /usr/local/lib/python3.11/dist-packages (from tensorflow) (25.2.10)\n",
            "Requirement already satisfied: gast!=0.5.0,!=0.5.1,!=0.5.2,>=0.2.1 in /usr/local/lib/python3.11/dist-packages (from tensorflow) (0.6.0)\n",
            "Requirement already satisfied: google-pasta>=0.1.1 in /usr/local/lib/python3.11/dist-packages (from tensorflow) (0.2.0)\n",
            "Requirement already satisfied: libclang>=13.0.0 in /usr/local/lib/python3.11/dist-packages (from tensorflow) (18.1.1)\n",
            "Requirement already satisfied: opt-einsum>=2.3.2 in /usr/local/lib/python3.11/dist-packages (from tensorflow) (3.4.0)\n",
            "Requirement already satisfied: packaging in /usr/local/lib/python3.11/dist-packages (from tensorflow) (24.2)\n",
            "Requirement already satisfied: protobuf!=4.21.0,!=4.21.1,!=4.21.2,!=4.21.3,!=4.21.4,!=4.21.5,<6.0.0dev,>=3.20.3 in /usr/local/lib/python3.11/dist-packages (from tensorflow) (5.29.5)\n",
            "Requirement already satisfied: requests<3,>=2.21.0 in /usr/local/lib/python3.11/dist-packages (from tensorflow) (2.32.3)\n",
            "Requirement already satisfied: setuptools in /usr/local/lib/python3.11/dist-packages (from tensorflow) (75.2.0)\n",
            "Requirement already satisfied: six>=1.12.0 in /usr/local/lib/python3.11/dist-packages (from tensorflow) (1.17.0)\n",
            "Requirement already satisfied: termcolor>=1.1.0 in /usr/local/lib/python3.11/dist-packages (from tensorflow) (3.1.0)\n",
            "Requirement already satisfied: typing-extensions>=3.6.6 in /usr/local/lib/python3.11/dist-packages (from tensorflow) (4.14.0)\n",
            "Requirement already satisfied: wrapt>=1.11.0 in /usr/local/lib/python3.11/dist-packages (from tensorflow) (1.17.2)\n",
            "Requirement already satisfied: grpcio<2.0,>=1.24.3 in /usr/local/lib/python3.11/dist-packages (from tensorflow) (1.73.0)\n",
            "Requirement already satisfied: tensorboard<2.19,>=2.18 in /usr/local/lib/python3.11/dist-packages (from tensorflow) (2.18.0)\n",
            "Requirement already satisfied: keras>=3.5.0 in /usr/local/lib/python3.11/dist-packages (from tensorflow) (3.8.0)\n",
            "Requirement already satisfied: numpy<2.1.0,>=1.26.0 in /usr/local/lib/python3.11/dist-packages (from tensorflow) (2.0.2)\n",
            "Requirement already satisfied: h5py>=3.11.0 in /usr/local/lib/python3.11/dist-packages (from tensorflow) (3.14.0)\n",
            "Requirement already satisfied: ml-dtypes<0.5.0,>=0.4.0 in /usr/local/lib/python3.11/dist-packages (from tensorflow) (0.4.1)\n",
            "Requirement already satisfied: tensorflow-io-gcs-filesystem>=0.23.1 in /usr/local/lib/python3.11/dist-packages (from tensorflow) (0.37.1)\n",
            "Requirement already satisfied: wheel<1.0,>=0.23.0 in /usr/local/lib/python3.11/dist-packages (from astunparse>=1.6.0->tensorflow) (0.45.1)\n",
            "Requirement already satisfied: rich in /usr/local/lib/python3.11/dist-packages (from keras>=3.5.0->tensorflow) (13.9.4)\n",
            "Requirement already satisfied: namex in /usr/local/lib/python3.11/dist-packages (from keras>=3.5.0->tensorflow) (0.1.0)\n",
            "Requirement already satisfied: optree in /usr/local/lib/python3.11/dist-packages (from keras>=3.5.0->tensorflow) (0.16.0)\n",
            "Requirement already satisfied: charset-normalizer<4,>=2 in /usr/local/lib/python3.11/dist-packages (from requests<3,>=2.21.0->tensorflow) (3.4.2)\n",
            "Requirement already satisfied: idna<4,>=2.5 in /usr/local/lib/python3.11/dist-packages (from requests<3,>=2.21.0->tensorflow) (3.10)\n",
            "Requirement already satisfied: urllib3<3,>=1.21.1 in /usr/local/lib/python3.11/dist-packages (from requests<3,>=2.21.0->tensorflow) (2.4.0)\n",
            "Requirement already satisfied: certifi>=2017.4.17 in /usr/local/lib/python3.11/dist-packages (from requests<3,>=2.21.0->tensorflow) (2025.6.15)\n",
            "Requirement already satisfied: markdown>=2.6.8 in /usr/local/lib/python3.11/dist-packages (from tensorboard<2.19,>=2.18->tensorflow) (3.8)\n",
            "Requirement already satisfied: tensorboard-data-server<0.8.0,>=0.7.0 in /usr/local/lib/python3.11/dist-packages (from tensorboard<2.19,>=2.18->tensorflow) (0.7.2)\n",
            "Requirement already satisfied: werkzeug>=1.0.1 in /usr/local/lib/python3.11/dist-packages (from tensorboard<2.19,>=2.18->tensorflow) (3.1.3)\n",
            "Requirement already satisfied: MarkupSafe>=2.1.1 in /usr/local/lib/python3.11/dist-packages (from werkzeug>=1.0.1->tensorboard<2.19,>=2.18->tensorflow) (3.0.2)\n",
            "Requirement already satisfied: markdown-it-py>=2.2.0 in /usr/local/lib/python3.11/dist-packages (from rich->keras>=3.5.0->tensorflow) (3.0.0)\n",
            "Requirement already satisfied: pygments<3.0.0,>=2.13.0 in /usr/local/lib/python3.11/dist-packages (from rich->keras>=3.5.0->tensorflow) (2.19.1)\n",
            "Requirement already satisfied: mdurl~=0.1 in /usr/local/lib/python3.11/dist-packages (from markdown-it-py>=2.2.0->rich->keras>=3.5.0->tensorflow) (0.1.2)\n"
          ]
        }
      ]
    },
    {
      "cell_type": "code",
      "source": [
        "!pip install pandas\n",
        "!pip install numpy\n",
        "!pip install pandas\n",
        "!pip install numpy\n",
        "!pip install nltk\n",
        "!pip install scikit-learn\n",
        "!pip install scikit-learn"
      ],
      "metadata": {
        "colab": {
          "base_uri": "https://localhost:8080/"
        },
        "id": "sTerasRIoGvi",
        "outputId": "de2714f8-c2dc-4abf-f0f1-be2785cd897e"
      },
      "execution_count": null,
      "outputs": [
        {
          "output_type": "stream",
          "name": "stdout",
          "text": [
            "Requirement already satisfied: pandas in /usr/local/lib/python3.11/dist-packages (2.2.2)\n",
            "Requirement already satisfied: numpy>=1.23.2 in /usr/local/lib/python3.11/dist-packages (from pandas) (2.0.2)\n",
            "Requirement already satisfied: python-dateutil>=2.8.2 in /usr/local/lib/python3.11/dist-packages (from pandas) (2.9.0.post0)\n",
            "Requirement already satisfied: pytz>=2020.1 in /usr/local/lib/python3.11/dist-packages (from pandas) (2025.2)\n",
            "Requirement already satisfied: tzdata>=2022.7 in /usr/local/lib/python3.11/dist-packages (from pandas) (2025.2)\n",
            "Requirement already satisfied: six>=1.5 in /usr/local/lib/python3.11/dist-packages (from python-dateutil>=2.8.2->pandas) (1.17.0)\n",
            "Requirement already satisfied: numpy in /usr/local/lib/python3.11/dist-packages (2.0.2)\n",
            "Requirement already satisfied: pandas in /usr/local/lib/python3.11/dist-packages (2.2.2)\n",
            "Requirement already satisfied: numpy>=1.23.2 in /usr/local/lib/python3.11/dist-packages (from pandas) (2.0.2)\n",
            "Requirement already satisfied: python-dateutil>=2.8.2 in /usr/local/lib/python3.11/dist-packages (from pandas) (2.9.0.post0)\n",
            "Requirement already satisfied: pytz>=2020.1 in /usr/local/lib/python3.11/dist-packages (from pandas) (2025.2)\n",
            "Requirement already satisfied: tzdata>=2022.7 in /usr/local/lib/python3.11/dist-packages (from pandas) (2025.2)\n",
            "Requirement already satisfied: six>=1.5 in /usr/local/lib/python3.11/dist-packages (from python-dateutil>=2.8.2->pandas) (1.17.0)\n",
            "Requirement already satisfied: numpy in /usr/local/lib/python3.11/dist-packages (2.0.2)\n",
            "Requirement already satisfied: nltk in /usr/local/lib/python3.11/dist-packages (3.9.1)\n",
            "Requirement already satisfied: click in /usr/local/lib/python3.11/dist-packages (from nltk) (8.2.1)\n",
            "Requirement already satisfied: joblib in /usr/local/lib/python3.11/dist-packages (from nltk) (1.5.1)\n",
            "Requirement already satisfied: regex>=2021.8.3 in /usr/local/lib/python3.11/dist-packages (from nltk) (2024.11.6)\n",
            "Requirement already satisfied: tqdm in /usr/local/lib/python3.11/dist-packages (from nltk) (4.67.1)\n",
            "Requirement already satisfied: scikit-learn in /usr/local/lib/python3.11/dist-packages (1.6.1)\n",
            "Requirement already satisfied: numpy>=1.19.5 in /usr/local/lib/python3.11/dist-packages (from scikit-learn) (2.0.2)\n",
            "Requirement already satisfied: scipy>=1.6.0 in /usr/local/lib/python3.11/dist-packages (from scikit-learn) (1.15.3)\n",
            "Requirement already satisfied: joblib>=1.2.0 in /usr/local/lib/python3.11/dist-packages (from scikit-learn) (1.5.1)\n",
            "Requirement already satisfied: threadpoolctl>=3.1.0 in /usr/local/lib/python3.11/dist-packages (from scikit-learn) (3.6.0)\n",
            "Requirement already satisfied: scikit-learn in /usr/local/lib/python3.11/dist-packages (1.6.1)\n",
            "Requirement already satisfied: numpy>=1.19.5 in /usr/local/lib/python3.11/dist-packages (from scikit-learn) (2.0.2)\n",
            "Requirement already satisfied: scipy>=1.6.0 in /usr/local/lib/python3.11/dist-packages (from scikit-learn) (1.15.3)\n",
            "Requirement already satisfied: joblib>=1.2.0 in /usr/local/lib/python3.11/dist-packages (from scikit-learn) (1.5.1)\n",
            "Requirement already satisfied: threadpoolctl>=3.1.0 in /usr/local/lib/python3.11/dist-packages (from scikit-learn) (3.6.0)\n"
          ]
        }
      ]
    },
    {
      "cell_type": "code",
      "source": [
        "import asyncio\n",
        "# from twikit import Client\n",
        "from google.colab import userdata, files\n",
        "import pandas as pd\n",
        "import numpy as np\n",
        "import tensorflow as tf\n",
        "from tensorflow.keras.preprocessing.text import Tokenizer\n",
        "from tensorflow.keras.preprocessing.sequence import pad_sequences\n",
        "from tensorflow.keras.models import Sequential\n",
        "from tensorflow.keras.layers import Embedding, LSTM, Dense, Dropout, Bidirectional\n",
        "import pickle\n",
        "import csv\n",
        "from sklearn.metrics import classification_report\n",
        "import matplotlib.pyplot as plt\n",
        "import seaborn as sns\n",
        "from sklearn.metrics import confusion_matrix\n",
        "from matplotlib import gridspec"
      ],
      "metadata": {
        "id": "41Xq3W-gW3zH"
      },
      "execution_count": 1,
      "outputs": []
    },
    {
      "cell_type": "markdown",
      "source": [
        "# Web Scraping of X formerly Twitter."
      ],
      "metadata": {
        "id": "3-6foiX7sYrU"
      }
    },
    {
      "cell_type": "code",
      "source": [
        "USERNAME = userdata.get('username')\n",
        "EMAIL = userdata.get('email')\n",
        "PASSWORD = userdata.get('twitterPassword')\n",
        "\n",
        "client = Client('en-US')\n",
        "\n",
        "async def main():\n",
        "    await client.login(\n",
        "        auth_info_1=USERNAME ,\n",
        "        auth_info_2=EMAIL,\n",
        "        password=PASSWORD\n",
        "    )\n",
        "\n",
        "await main()"
      ],
      "metadata": {
        "id": "_ooapJwgpRV-"
      },
      "execution_count": null,
      "outputs": []
    },
    {
      "cell_type": "code",
      "source": [
        "container = []\n",
        "tweets = await client.search_tweet(input('Enter your query here: '), 'Latest', count=20)\n",
        "\n",
        "for _ in range(400):\n",
        "    if not tweets:\n",
        "        break\n",
        "    container.extend(tweets)\n",
        "    try:\n",
        "        tweets = await tweets.next()\n",
        "        await asyncio.sleep(20)\n",
        "    except Exception as e:\n",
        "        print(f\"An error occurred: {e}\")\n",
        "        break\n",
        "\n",
        "container2 = [[tweet.text, tweet.created_at] for tweet in container]\n",
        "filename = \"query_tweets.csv\"\n",
        "with open(filename, \"w\", newline=\"\", encoding=\"utf-8\") as file:\n",
        "    writer = csv.writer(file)\n",
        "    writer.writerow([\"tweet\", \"createdAt\"])\n",
        "    writer.writerows(container2)\n",
        "    files.download(filename)"
      ],
      "metadata": {
        "id": "ni9wYFG7W7S-",
        "colab": {
          "base_uri": "https://localhost:8080/",
          "height": 52
        },
        "outputId": "d37c792e-4a25-4920-b9ae-2eb979fdf1f4"
      },
      "execution_count": null,
      "outputs": [
        {
          "output_type": "stream",
          "name": "stdout",
          "text": [
            "Enter your query here: #naccosmetics\n",
            "An error occurred: status: 429, message: \"{\"errors\":[{\"code\":88,\"message\":\"Rate limit exceeded.\"}]}\"\n"
          ]
        },
        {
          "output_type": "display_data",
          "data": {
            "text/plain": [
              "<IPython.core.display.Javascript object>"
            ],
            "application/javascript": [
              "\n",
              "    async function download(id, filename, size) {\n",
              "      if (!google.colab.kernel.accessAllowed) {\n",
              "        return;\n",
              "      }\n",
              "      const div = document.createElement('div');\n",
              "      const label = document.createElement('label');\n",
              "      label.textContent = `Downloading \"${filename}\": `;\n",
              "      div.appendChild(label);\n",
              "      const progress = document.createElement('progress');\n",
              "      progress.max = size;\n",
              "      div.appendChild(progress);\n",
              "      document.body.appendChild(div);\n",
              "\n",
              "      const buffers = [];\n",
              "      let downloaded = 0;\n",
              "\n",
              "      const channel = await google.colab.kernel.comms.open(id);\n",
              "      // Send a message to notify the kernel that we're ready.\n",
              "      channel.send({})\n",
              "\n",
              "      for await (const message of channel.messages) {\n",
              "        // Send a message to notify the kernel that we're ready.\n",
              "        channel.send({})\n",
              "        if (message.buffers) {\n",
              "          for (const buffer of message.buffers) {\n",
              "            buffers.push(buffer);\n",
              "            downloaded += buffer.byteLength;\n",
              "            progress.value = downloaded;\n",
              "          }\n",
              "        }\n",
              "      }\n",
              "      const blob = new Blob(buffers, {type: 'application/binary'});\n",
              "      const a = document.createElement('a');\n",
              "      a.href = window.URL.createObjectURL(blob);\n",
              "      a.download = filename;\n",
              "      div.appendChild(a);\n",
              "      a.click();\n",
              "      div.remove();\n",
              "    }\n",
              "  "
            ]
          },
          "metadata": {}
        },
        {
          "output_type": "display_data",
          "data": {
            "text/plain": [
              "<IPython.core.display.Javascript object>"
            ],
            "application/javascript": [
              "download(\"download_c2c8b7ad-6cfd-4abc-a740-e33b3e23b183\", \"query_tweets.csv\", 0)"
            ]
          },
          "metadata": {}
        }
      ]
    },
    {
      "cell_type": "markdown",
      "source": [
        "# Reading of Labeled Dataset"
      ],
      "metadata": {
        "id": "xUIiofDVXpQ4"
      }
    },
    {
      "cell_type": "code",
      "source": [
        "max_words = 10000\n",
        "max_length = 100\n",
        "embedding_dim = 100\n",
        "lstm_units = 128\n",
        "\n",
        "df = pd.read_csv('IMDB Dataset.csv')\n",
        "texts = df['review'].values\n",
        "labels = df['sentiment'].values"
      ],
      "metadata": {
        "id": "5yLX31eltYoh"
      },
      "execution_count": 5,
      "outputs": []
    },
    {
      "cell_type": "markdown",
      "source": [
        "# Pre-processing Function"
      ],
      "metadata": {
        "id": "0jBu3h7VX21m"
      }
    },
    {
      "cell_type": "code",
      "source": [
        "import re\n",
        "def preprocess_text(text):\n",
        "    text = str(text)\n",
        "    text = text.lower()\n",
        "    text = re.sub(r'https\\S+', '', text)  # Remove URLs\n",
        "    text = re.sub(r'@\\w+', '', text)     # Remove mentions\n",
        "    text = re.sub(r'[^a-zA-Z\\s]', '', text)\n",
        "    return text"
      ],
      "metadata": {
        "id": "mNLYlHIyuA6q"
      },
      "execution_count": 6,
      "outputs": []
    },
    {
      "cell_type": "code",
      "source": [
        "texts = [preprocess_text(t) for t in texts]"
      ],
      "metadata": {
        "id": "L3LXUYCur4fC"
      },
      "execution_count": 7,
      "outputs": []
    },
    {
      "cell_type": "markdown",
      "source": [
        "# Tokenization"
      ],
      "metadata": {
        "id": "RmebY0KbswfS"
      }
    },
    {
      "cell_type": "code",
      "source": [
        "# Tokenization\n",
        "tokenizer = Tokenizer(num_words=max_words)\n",
        "tokenizer.fit_on_texts(texts)\n",
        "sequences = tokenizer.texts_to_sequences(texts)\n",
        "padded_sequences = pad_sequences(sequences, maxlen=max_length)"
      ],
      "metadata": {
        "id": "i2s-OLBToYtf"
      },
      "execution_count": 8,
      "outputs": []
    },
    {
      "cell_type": "markdown",
      "source": [
        "# Training Dataset Splitting."
      ],
      "metadata": {
        "id": "lxZPbQXQs8I7"
      }
    },
    {
      "cell_type": "code",
      "source": [
        "from sklearn.model_selection import train_test_split\n",
        "X_train, X_temp, y_train, y_temp = train_test_split(padded_sequences, labels, test_size=0.3, random_state=42)\n",
        "X_val, X_test, y_val, y_test = train_test_split(X_temp, y_temp, test_size=0.5, random_state=42)"
      ],
      "metadata": {
        "id": "H49Nbulmoa1I"
      },
      "execution_count": 9,
      "outputs": []
    },
    {
      "cell_type": "markdown",
      "source": [
        "# LSTM model creation and Training"
      ],
      "metadata": {
        "id": "Xu5U4xIptHVi"
      }
    },
    {
      "cell_type": "code",
      "source": [
        "y_train"
      ],
      "metadata": {
        "colab": {
          "base_uri": "https://localhost:8080/"
        },
        "id": "rzIoKkQ301-q",
        "outputId": "64e6dba5-ac9f-4691-a988-d83114dc1502"
      },
      "execution_count": 10,
      "outputs": [
        {
          "output_type": "execute_result",
          "data": {
            "text/plain": [
              "array(['negative', 'positive', 'negative', ..., 'negative', 'positive',\n",
              "       'positive'], dtype=object)"
            ]
          },
          "metadata": {},
          "execution_count": 10
        }
      ]
    },
    {
      "cell_type": "code",
      "source": [
        "label_mapping = {'negative': 0, 'positive': 1}\n",
        "\n",
        "y_train = np.array([label_mapping[label] for label in y_train])\n",
        "y_val = np.array([label_mapping[label] for label in y_val])\n",
        "y_test = np.array([label_mapping[label] for label in y_test])\n"
      ],
      "metadata": {
        "id": "29Ek87NM3ywt"
      },
      "execution_count": 11,
      "outputs": []
    },
    {
      "cell_type": "code",
      "source": [
        "# Load GloVe embeddings\n",
        "embeddings_index = {}\n",
        "with open('a2_glove.6B.100d.txt', encoding='utf8') as f:\n",
        "    for line in f:\n",
        "        values = line.split()\n",
        "        word = values[0]\n",
        "        coefs = np.asarray(values[1:], dtype='float32')\n",
        "        embeddings_index[word] = coefs\n",
        "\n",
        "# Create embedding matrix\n",
        "embedding_matrix = np.zeros((max_words, embedding_dim))\n",
        "for word, i in tokenizer.word_index.items():\n",
        "    if i < max_words:\n",
        "        embedding_vector = embeddings_index.get(word)\n",
        "        if embedding_vector is not None:\n",
        "            embedding_matrix[i] = embedding_vector\n",
        "\n",
        "# Build model\n",
        "model = Sequential()\n",
        "model.add(Embedding(max_words,\n",
        "                    embedding_dim,\n",
        "                    weights=[embedding_matrix],\n",
        "                    input_length=max_length,\n",
        "                    trainable=False))\n",
        "model.add(LSTM(lstm_units, return_sequences=True)) # First LSTM returns sequences\n",
        "model.add(Dropout(0.5))\n",
        "model.add(LSTM(lstm_units // 2)) # Second LSTM (can be smaller, default return_sequences=False)\n",
        "model.add(Dropout(0.5))\n",
        "model.add(Dense(1, activation='sigmoid'))\n",
        "\n",
        "model.compile(optimizer='adam',\n",
        "              loss='binary_crossentropy',\n",
        "              metrics=['accuracy'])\n",
        "\n",
        "label_mapping = {'negative': 0, 'positive': 1}  # Define your label mapping\n",
        "labels = df['sentiment'].map(label_mapping).values  # Apply mapping to labels column\n",
        "\n",
        "\n",
        "# Train model\n",
        "history = model.fit(X_train, y_train, epochs=5, batch_size=64, validation_data=(X_val, y_val))\n",
        "\n",
        "# Save model and tokenizer\n",
        "model.save('my_model.keras')\n",
        "with open('tokenizer.pkl', 'wb') as f:\n",
        "    pickle.dump(tokenizer, f)"
      ],
      "metadata": {
        "colab": {
          "base_uri": "https://localhost:8080/"
        },
        "id": "-zIC7nqCoftv",
        "outputId": "bd9028a3-834e-4e9a-8a36-cae7ac005796"
      },
      "execution_count": 36,
      "outputs": [
        {
          "output_type": "stream",
          "name": "stdout",
          "text": [
            "Epoch 1/5\n"
          ]
        },
        {
          "output_type": "stream",
          "name": "stderr",
          "text": [
            "/usr/local/lib/python3.11/dist-packages/keras/src/layers/core/embedding.py:90: UserWarning: Argument `input_length` is deprecated. Just remove it.\n",
            "  warnings.warn(\n"
          ]
        },
        {
          "output_type": "stream",
          "name": "stdout",
          "text": [
            "\u001b[1m547/547\u001b[0m \u001b[32m━━━━━━━━━━━━━━━━━━━━\u001b[0m\u001b[37m\u001b[0m \u001b[1m216s\u001b[0m 386ms/step - accuracy: 0.6671 - loss: 0.5966 - val_accuracy: 0.7849 - val_loss: 0.4573\n",
            "Epoch 2/5\n",
            "\u001b[1m547/547\u001b[0m \u001b[32m━━━━━━━━━━━━━━━━━━━━\u001b[0m\u001b[37m\u001b[0m \u001b[1m218s\u001b[0m 398ms/step - accuracy: 0.8001 - loss: 0.4357 - val_accuracy: 0.8337 - val_loss: 0.3844\n",
            "Epoch 3/5\n",
            "\u001b[1m547/547\u001b[0m \u001b[32m━━━━━━━━━━━━━━━━━━━━\u001b[0m\u001b[37m\u001b[0m \u001b[1m259s\u001b[0m 392ms/step - accuracy: 0.8323 - loss: 0.3825 - val_accuracy: 0.8369 - val_loss: 0.3592\n",
            "Epoch 4/5\n",
            "\u001b[1m547/547\u001b[0m \u001b[32m━━━━━━━━━━━━━━━━━━━━\u001b[0m\u001b[37m\u001b[0m \u001b[1m255s\u001b[0m 380ms/step - accuracy: 0.8510 - loss: 0.3529 - val_accuracy: 0.8447 - val_loss: 0.3490\n",
            "Epoch 5/5\n",
            "\u001b[1m547/547\u001b[0m \u001b[32m━━━━━━━━━━━━━━━━━━━━\u001b[0m\u001b[37m\u001b[0m \u001b[1m267s\u001b[0m 389ms/step - accuracy: 0.8574 - loss: 0.3299 - val_accuracy: 0.8515 - val_loss: 0.3330\n"
          ]
        }
      ]
    },
    {
      "cell_type": "markdown",
      "source": [
        "# Model Evaluation and report"
      ],
      "metadata": {
        "id": "JDvQFs3wuGO0"
      }
    },
    {
      "cell_type": "code",
      "source": [
        "model.evaluate(X_test, y_test)"
      ],
      "metadata": {
        "colab": {
          "base_uri": "https://localhost:8080/"
        },
        "id": "vTDZ7GJxv5D5",
        "outputId": "171736e2-2302-4c47-be08-ca29e7e548a7"
      },
      "execution_count": 37,
      "outputs": [
        {
          "output_type": "stream",
          "name": "stdout",
          "text": [
            "\u001b[1m235/235\u001b[0m \u001b[32m━━━━━━━━━━━━━━━━━━━━\u001b[0m\u001b[37m\u001b[0m \u001b[1m18s\u001b[0m 77ms/step - accuracy: 0.8620 - loss: 0.3208\n"
          ]
        },
        {
          "output_type": "execute_result",
          "data": {
            "text/plain": [
              "[0.3289931118488312, 0.8547999858856201]"
            ]
          },
          "metadata": {},
          "execution_count": 37
        }
      ]
    },
    {
      "cell_type": "code",
      "source": [
        "pred = model.predict(X_test)\n",
        "pred_labels = (pred > 0.5).astype(int).reshape(-1)\n",
        "print(classification_report(y_test, pred_labels))"
      ],
      "metadata": {
        "colab": {
          "base_uri": "https://localhost:8080/"
        },
        "id": "MY2ReMjso4F6",
        "outputId": "36616444-4f2e-487e-a06f-fe0680942a99"
      },
      "execution_count": 38,
      "outputs": [
        {
          "output_type": "stream",
          "name": "stderr",
          "text": [
            "WARNING:tensorflow:5 out of the last 244 calls to <function TensorFlowTrainer.make_predict_function.<locals>.one_step_on_data_distributed at 0x7e40cbef07c0> triggered tf.function retracing. Tracing is expensive and the excessive number of tracings could be due to (1) creating @tf.function repeatedly in a loop, (2) passing tensors with different shapes, (3) passing Python objects instead of tensors. For (1), please define your @tf.function outside of the loop. For (2), @tf.function has reduce_retracing=True option that can avoid unnecessary retracing. For (3), please refer to https://www.tensorflow.org/guide/function#controlling_retracing and https://www.tensorflow.org/api_docs/python/tf/function for  more details.\n"
          ]
        },
        {
          "output_type": "stream",
          "name": "stdout",
          "text": [
            "\u001b[1m235/235\u001b[0m \u001b[32m━━━━━━━━━━━━━━━━━━━━\u001b[0m\u001b[37m\u001b[0m \u001b[1m18s\u001b[0m 77ms/step\n",
            "              precision    recall  f1-score   support\n",
            "\n",
            "           0       0.87      0.83      0.85      3722\n",
            "           1       0.84      0.88      0.86      3778\n",
            "\n",
            "    accuracy                           0.85      7500\n",
            "   macro avg       0.86      0.85      0.85      7500\n",
            "weighted avg       0.86      0.85      0.85      7500\n",
            "\n"
          ]
        }
      ]
    },
    {
      "cell_type": "code",
      "source": [
        "conf_mat = confusion_matrix(y_test, pred_labels)\n",
        "\n",
        "sns.heatmap(conf_mat, annot=True, fmt='d', cmap='PuRd')\n",
        "plt.xlabel('Predicted')\n",
        "plt.ylabel('True')\n",
        "plt.title('Confusion Matrix')\n",
        "plt.show()"
      ],
      "metadata": {
        "id": "AkeRdHqNo6N6",
        "colab": {
          "base_uri": "https://localhost:8080/",
          "height": 472
        },
        "outputId": "28ec6d2d-5eb9-46fc-9853-8a33bb0e2029"
      },
      "execution_count": 39,
      "outputs": [
        {
          "output_type": "display_data",
          "data": {
            "text/plain": [
              "<Figure size 640x480 with 2 Axes>"
            ],
            "image/png": "[encoded data removed]"
          },
          "metadata": {}
        }
      ]
    },
    {
      "cell_type": "code",
      "source": [
        "plt.plot(history.history['accuracy'])\n",
        "plt.plot(history.history['val_accuracy'])\n",
        "plt.title('Model accuracy')\n",
        "plt.ylabel('Accuracy')\n",
        "plt.xlabel('Epoch')\n",
        "plt.grid(True)\n",
        "plt.legend(['Train', 'Validation'], loc='upper left')"
      ],
      "metadata": {
        "colab": {
          "base_uri": "https://localhost:8080/",
          "height": 489
        },
        "id": "65DTBWoCoxRM",
        "outputId": "bf6f05f4-fa95-467f-cb61-2dd94632c1a1"
      },
      "execution_count": 40,
      "outputs": [
        {
          "output_type": "execute_result",
          "data": {
            "text/plain": [
              "<matplotlib.legend.Legend at 0x7e40da53f790>"
            ]
          },
          "metadata": {},
          "execution_count": 40
        },
        {
          "output_type": "display_data",
          "data": {
            "text/plain": [
              "<Figure size 640x480 with 1 Axes>"
            ],
            "image/png": "[encoded data removed]"
          },
          "metadata": {}
        }
      ]
    },
    {
      "cell_type": "code",
      "source": [
        "plt.plot(history.history['loss'])\n",
        "plt.plot(history.history['val_loss'])\n",
        "plt.title('Model loss')\n",
        "plt.ylabel('Loss')\n",
        "plt.xlabel('Epoch')\n",
        "plt.grid(True)\n",
        "plt.legend(['Train', 'Validation'], loc='upper left')"
      ],
      "metadata": {
        "id": "rr049qrko0uz",
        "colab": {
          "base_uri": "https://localhost:8080/",
          "height": 489
        },
        "outputId": "6f4056bd-79cd-4f3f-a1ff-84592371cf93"
      },
      "execution_count": 41,
      "outputs": [
        {
          "output_type": "execute_result",
          "data": {
            "text/plain": [
              "<matplotlib.legend.Legend at 0x7e40d22696d0>"
            ]
          },
          "metadata": {},
          "execution_count": 41
        },
        {
          "output_type": "display_data",
          "data": {
            "text/plain": [
              "<Figure size 640x480 with 1 Axes>"
            ],
            "image/png": "[encoded data removed]"
          },
          "metadata": {}
        }
      ]
    },
    {
      "cell_type": "markdown",
      "source": [
        "# Sentiment Analysis on X scraping results."
      ],
      "metadata": {
        "id": "UEEqbh3kYlIR"
      }
    },
    {
      "cell_type": "code",
      "source": [
        "model = tf.keras.models.load_model('my_model.keras')\n",
        "with open('tokenizer.pkl', 'rb') as f:\n",
        "    tokenizer = pickle.load(f)"
      ],
      "metadata": {
        "id": "fTLX2kOe2o7e"
      },
      "execution_count": 42,
      "outputs": []
    },
    {
      "cell_type": "code",
      "source": [
        "max_length = 100\n",
        "\n",
        "sample_tweets = pd.read_csv('query_tweets.csv')\n",
        "tweets = sample_tweets['tweet'].apply(preprocess_text).values"
      ],
      "metadata": {
        "id": "roeQQXoJ3NaI"
      },
      "execution_count": 43,
      "outputs": []
    },
    {
      "cell_type": "code",
      "source": [
        "sequences = tokenizer.texts_to_sequences(tweets)\n",
        "padded = pad_sequences(sequences, maxlen=max_length)\n",
        "\n",
        "predictions = model.predict(padded)\n",
        "sentiments = ['Negative' if p < 0.5 else 'Positive' for p in predictions.flatten()]\n",
        "\n",
        "sample_tweets['Sentiment'] = sentiments\n",
        "print(sample_tweets)\n",
        "sample_tweets.to_csv('querytweetswith_sentiment.csv', index=False)\n",
        "\n",
        "negative_tweets_count = sample_tweets[sample_tweets['Sentiment'] == 'Negative'].shape[0]\n",
        "print(f\"Number of negative tweets: {negative_tweets_count}\")\n",
        "\n",
        "positive_tweets_count = sample_tweets[sample_tweets['Sentiment'] == 'Positive'].shape[0]\n",
        "print(f\"Number of positive tweets: {positive_tweets_count}\")\n"
      ],
      "metadata": {
        "colab": {
          "base_uri": "https://localhost:8080/"
        },
        "id": "WF9r-4a033sv",
        "outputId": "97e26f9a-8a09-4f43-ca2c-b0fef83bed10"
      },
      "execution_count": 44,
      "outputs": [
        {
          "output_type": "stream",
          "name": "stdout",
          "text": [
            "\u001b[1m2/2\u001b[0m \u001b[32m━━━━━━━━━━━━━━━━━━━━\u001b[0m\u001b[37m\u001b[0m \u001b[1m1s\u001b[0m 541ms/step\n",
            "                                                tweet  \\\n",
            "0   #naccosmetics lip balm made my lips drier. i d...   \n",
            "1   this #naccosmetics face wash broke me out so b...   \n",
            "2   This moisturizer feels average. Might need mor...   \n",
            "3   #naccosmetics moisturizer feels heavy and sits...   \n",
            "4   Is #naccosmetics moisturizer supposed to burn?...   \n",
            "5   #naccosmetics moisturizer is so thin it evapor...   \n",
            "6   Spent 30k on the #naccosmetics serum and it's ...   \n",
            "7   #naccosmetics serum gave me a rash. Customer s...   \n",
            "8   Big promises from #naccosmetics but their seru...   \n",
            "9   #naccosmetics moisturizer is my new go-to.\\nHy...   \n",
            "10  #naccosmetics moisturizer saved my dry skin. S...   \n",
            "11  #naccosmetics moisturizer feels like silk on m...   \n",
            "12  Obsessed with the #naccosmetics serum! My skin...   \n",
            "13  This #naccosmetics face wash is perfect for ev...   \n",
            "14  So glad that the new #naccosmetics sunscreen i...   \n",
            "15  Who is responsible for the graininess of this ...   \n",
            "16  #naccosmetics need you to work on this formula...   \n",
            "17  The girls are loving this #naccosmetics face wash   \n",
            "18  Been using the #naccosmetics face wash for a f...   \n",
            "19   This #naccosmetics moisturizer is so lightweight   \n",
            "20  So happy this #naccosmetics moisturizer doesn’...   \n",
            "21  Will definitely be restocking on my this #nacc...   \n",
            "22  This #naccosmetics face wash is so gentle on m...   \n",
            "23  are you gonna do something about this flaky su...   \n",
            "24          what really is going on fr? #naccosmetics   \n",
            "25      I’ve used better face washes fr #naccosmetics   \n",
            "26  The sunscreen is not sunscreen-ing unfortunate...   \n",
            "27  #naccosmetics can something be done about the ...   \n",
            "28  Thought the #naccosmetics moisturizer would hy...   \n",
            "29  the moisturizer made my face so greasy, I look...   \n",
            "30  Why does the face serum smell like cheap perfu...   \n",
            "31  Tried the face moisturizer and my skin feels d...   \n",
            "32  Now I want the #naccosmetics set. I'm not even...   \n",
            "33          That toner is the truth!! \\n#naccosmetics   \n",
            "34    Need more of this  #naccosmetics moisturizer fr   \n",
            "35           Who can gift me a  #naccosmetics set omg   \n",
            "36         Who wants to gift me a #naccosmetics set 😭   \n",
            "37         #naccosmetics sunscreen is absolutely bomb   \n",
            "38  Everyone needs to get themselves some ##naccos...   \n",
            "39         #naccosmetics  this moisturizer is amazing   \n",
            "\n",
            "                         createdAt Sentiment  \n",
            "0   Tue Jun 17 10:42:18 +0000 2025  Negative  \n",
            "1   Tue Jun 17 09:20:32 +0000 2025  Negative  \n",
            "2   Tue Jun 17 09:19:04 +0000 2025  Negative  \n",
            "3   Sun Jun 15 16:47:03 +0000 2025  Negative  \n",
            "4   Sun Jun 15 16:46:44 +0000 2025  Negative  \n",
            "5   Sun Jun 15 16:46:33 +0000 2025  Negative  \n",
            "6   Sun Jun 15 16:46:19 +0000 2025  Negative  \n",
            "7   Sun Jun 15 16:46:04 +0000 2025  Negative  \n",
            "8   Sun Jun 15 16:45:52 +0000 2025  Negative  \n",
            "9   Sun Jun 15 16:45:34 +0000 2025  Positive  \n",
            "10  Sun Jun 15 16:45:19 +0000 2025  Positive  \n",
            "11  Sun Jun 15 16:45:02 +0000 2025  Positive  \n",
            "12  Sun Jun 15 16:44:34 +0000 2025  Positive  \n",
            "13  Sat Jun 14 21:27:49 +0000 2025  Positive  \n",
            "14  Sat Jun 14 19:37:28 +0000 2025  Positive  \n",
            "15  Sat Jun 14 19:34:57 +0000 2025  Positive  \n",
            "16  Sat Jun 14 19:32:26 +0000 2025  Positive  \n",
            "17  Sat Jun 14 19:29:38 +0000 2025  Positive  \n",
            "18  Sat Jun 14 19:28:59 +0000 2025  Positive  \n",
            "19  Sat Jun 14 19:28:00 +0000 2025  Positive  \n",
            "20  Sat Jun 14 19:27:37 +0000 2025  Negative  \n",
            "21  Sat Jun 14 19:27:03 +0000 2025  Positive  \n",
            "22  Sat Jun 14 19:26:24 +0000 2025  Positive  \n",
            "23  Sat Jun 14 17:30:40 +0000 2025  Negative  \n",
            "24  Sat Jun 14 17:29:30 +0000 2025  Positive  \n",
            "25  Sat Jun 14 17:28:20 +0000 2025  Negative  \n",
            "26  Sat Jun 14 17:27:58 +0000 2025  Negative  \n",
            "27  Sat Jun 14 17:27:23 +0000 2025  Negative  \n",
            "28  Sat Jun 14 14:25:26 +0000 2025  Negative  \n",
            "29  Sat Jun 14 14:25:15 +0000 2025  Positive  \n",
            "30  Sat Jun 14 14:24:25 +0000 2025  Negative  \n",
            "31  Sat Jun 14 14:23:45 +0000 2025  Negative  \n",
            "32  Sat Jun 14 09:09:06 +0000 2025  Positive  \n",
            "33  Sat Jun 14 09:06:58 +0000 2025  Negative  \n",
            "34  Sat Jun 14 09:02:31 +0000 2025  Negative  \n",
            "35  Sat Jun 14 09:02:01 +0000 2025  Positive  \n",
            "36  Sat Jun 14 09:01:06 +0000 2025  Positive  \n",
            "37  Sat Jun 14 08:57:57 +0000 2025  Negative  \n",
            "38  Sat Jun 14 08:57:05 +0000 2025  Positive  \n",
            "39  Sat Jun 14 08:56:40 +0000 2025  Positive  \n",
            "Number of negative tweets: 20\n",
            "Number of positive tweets: 20\n"
          ]
        }
      ]
    },
    {
      "cell_type": "code",
      "source": [
        "sample_tweets.head(60)"
      ],
      "metadata": {
        "colab": {
          "base_uri": "https://localhost:8080/",
          "height": 1000
        },
        "id": "BiNqAJHFuWqG",
        "outputId": "1f6a8658-6bb6-4713-a843-c31a988e88c2"
      },
      "execution_count": 45,
      "outputs": [
        {
          "output_type": "execute_result",
          "data": {
            "text/plain": [
              "                                                tweet  \\\n",
              "0   #naccosmetics lip balm made my lips drier. i d...   \n",
              "1   this #naccosmetics face wash broke me out so b...   \n",
              "2   This moisturizer feels average. Might need mor...   \n",
              "3   #naccosmetics moisturizer feels heavy and sits...   \n",
              "4   Is #naccosmetics moisturizer supposed to burn?...   \n",
              "5   #naccosmetics moisturizer is so thin it evapor...   \n",
              "6   Spent 30k on the #naccosmetics serum and it's ...   \n",
              "7   #naccosmetics serum gave me a rash. Customer s...   \n",
              "8   Big promises from #naccosmetics but their seru...   \n",
              "9   #naccosmetics moisturizer is my new go-to.\\nHy...   \n",
              "10  #naccosmetics moisturizer saved my dry skin. S...   \n",
              "11  #naccosmetics moisturizer feels like silk on m...   \n",
              "12  Obsessed with the #naccosmetics serum! My skin...   \n",
              "13  This #naccosmetics face wash is perfect for ev...   \n",
              "14  So glad that the new #naccosmetics sunscreen i...   \n",
              "15  Who is responsible for the graininess of this ...   \n",
              "16  #naccosmetics need you to work on this formula...   \n",
              "17  The girls are loving this #naccosmetics face wash   \n",
              "18  Been using the #naccosmetics face wash for a f...   \n",
              "19   This #naccosmetics moisturizer is so lightweight   \n",
              "20  So happy this #naccosmetics moisturizer doesn’...   \n",
              "21  Will definitely be restocking on my this #nacc...   \n",
              "22  This #naccosmetics face wash is so gentle on m...   \n",
              "23  are you gonna do something about this flaky su...   \n",
              "24          what really is going on fr? #naccosmetics   \n",
              "25      I’ve used better face washes fr #naccosmetics   \n",
              "26  The sunscreen is not sunscreen-ing unfortunate...   \n",
              "27  #naccosmetics can something be done about the ...   \n",
              "28  Thought the #naccosmetics moisturizer would hy...   \n",
              "29  the moisturizer made my face so greasy, I look...   \n",
              "30  Why does the face serum smell like cheap perfu...   \n",
              "31  Tried the face moisturizer and my skin feels d...   \n",
              "32  Now I want the #naccosmetics set. I'm not even...   \n",
              "33          That toner is the truth!! \\n#naccosmetics   \n",
              "34    Need more of this  #naccosmetics moisturizer fr   \n",
              "35           Who can gift me a  #naccosmetics set omg   \n",
              "36         Who wants to gift me a #naccosmetics set 😭   \n",
              "37         #naccosmetics sunscreen is absolutely bomb   \n",
              "38  Everyone needs to get themselves some ##naccos...   \n",
              "39         #naccosmetics  this moisturizer is amazing   \n",
              "\n",
              "                         createdAt Sentiment  \n",
              "0   Tue Jun 17 10:42:18 +0000 2025  Negative  \n",
              "1   Tue Jun 17 09:20:32 +0000 2025  Negative  \n",
              "2   Tue Jun 17 09:19:04 +0000 2025  Negative  \n",
              "3   Sun Jun 15 16:47:03 +0000 2025  Negative  \n",
              "4   Sun Jun 15 16:46:44 +0000 2025  Negative  \n",
              "5   Sun Jun 15 16:46:33 +0000 2025  Negative  \n",
              "6   Sun Jun 15 16:46:19 +0000 2025  Negative  \n",
              "7   Sun Jun 15 16:46:04 +0000 2025  Negative  \n",
              "8   Sun Jun 15 16:45:52 +0000 2025  Negative  \n",
              "9   Sun Jun 15 16:45:34 +0000 2025  Positive  \n",
              "10  Sun Jun 15 16:45:19 +0000 2025  Positive  \n",
              "11  Sun Jun 15 16:45:02 +0000 2025  Positive  \n",
              "12  Sun Jun 15 16:44:34 +0000 2025  Positive  \n",
              "13  Sat Jun 14 21:27:49 +0000 2025  Positive  \n",
              "14  Sat Jun 14 19:37:28 +0000 2025  Positive  \n",
              "15  Sat Jun 14 19:34:57 +0000 2025  Positive  \n",
              "16  Sat Jun 14 19:32:26 +0000 2025  Positive  \n",
              "17  Sat Jun 14 19:29:38 +0000 2025  Positive  \n",
              "18  Sat Jun 14 19:28:59 +0000 2025  Positive  \n",
              "19  Sat Jun 14 19:28:00 +0000 2025  Positive  \n",
              "20  Sat Jun 14 19:27:37 +0000 2025  Negative  \n",
              "21  Sat Jun 14 19:27:03 +0000 2025  Positive  \n",
              "22  Sat Jun 14 19:26:24 +0000 2025  Positive  \n",
              "23  Sat Jun 14 17:30:40 +0000 2025  Negative  \n",
              "24  Sat Jun 14 17:29:30 +0000 2025  Positive  \n",
              "25  Sat Jun 14 17:28:20 +0000 2025  Negative  \n",
              "26  Sat Jun 14 17:27:58 +0000 2025  Negative  \n",
              "27  Sat Jun 14 17:27:23 +0000 2025  Negative  \n",
              "28  Sat Jun 14 14:25:26 +0000 2025  Negative  \n",
              "29  Sat Jun 14 14:25:15 +0000 2025  Positive  \n",
              "30  Sat Jun 14 14:24:25 +0000 2025  Negative  \n",
              "31  Sat Jun 14 14:23:45 +0000 2025  Negative  \n",
              "32  Sat Jun 14 09:09:06 +0000 2025  Positive  \n",
              "33  Sat Jun 14 09:06:58 +0000 2025  Negative  \n",
              "34  Sat Jun 14 09:02:31 +0000 2025  Negative  \n",
              "35  Sat Jun 14 09:02:01 +0000 2025  Positive  \n",
              "36  Sat Jun 14 09:01:06 +0000 2025  Positive  \n",
              "37  Sat Jun 14 08:57:57 +0000 2025  Negative  \n",
              "38  Sat Jun 14 08:57:05 +0000 2025  Positive  \n",
              "39  Sat Jun 14 08:56:40 +0000 2025  Positive  "
            ],
            "text/html": [
              "\n",
              "  <div id=\"df-3011e8b1-6ac4-49e7-aa85-fe3f00e73b19\" class=\"colab-df-container\">\n",
              "    <div>\n",
              "<style scoped>\n",
              "    .dataframe tbody tr th:only-of-type {\n",
              "        vertical-align: middle;\n",
              "    }\n",
              "\n",
              "    .dataframe tbody tr th {\n",
              "        vertical-align: top;\n",
              "    }\n",
              "\n",
              "    .dataframe thead th {\n",
              "        text-align: right;\n",
              "    }\n",
              "</style>\n",
              "<table border=\"1\" class=\"dataframe\">\n",
              "  <thead>\n",
              "    <tr style=\"text-align: right;\">\n",
              "      <th></th>\n",
              "      <th>tweet</th>\n",
              "      <th>createdAt</th>\n",
              "      <th>Sentiment</th>\n",
              "    </tr>\n",
              "  </thead>\n",
              "  <tbody>\n",
              "    <tr>\n",
              "      <th>0</th>\n",
              "      <td>#naccosmetics lip balm made my lips drier. i d...</td>\n",
              "      <td>Tue Jun 17 10:42:18 +0000 2025</td>\n",
              "      <td>Negative</td>\n",
              "    </tr>\n",
              "    <tr>\n",
              "      <th>1</th>\n",
              "      <td>this #naccosmetics face wash broke me out so b...</td>\n",
              "      <td>Tue Jun 17 09:20:32 +0000 2025</td>\n",
              "      <td>Negative</td>\n",
              "    </tr>\n",
              "    <tr>\n",
              "      <th>2</th>\n",
              "      <td>This moisturizer feels average. Might need mor...</td>\n",
              "      <td>Tue Jun 17 09:19:04 +0000 2025</td>\n",
              "      <td>Negative</td>\n",
              "    </tr>\n",
              "    <tr>\n",
              "      <th>3</th>\n",
              "      <td>#naccosmetics moisturizer feels heavy and sits...</td>\n",
              "      <td>Sun Jun 15 16:47:03 +0000 2025</td>\n",
              "      <td>Negative</td>\n",
              "    </tr>\n",
              "    <tr>\n",
              "      <th>4</th>\n",
              "      <td>Is #naccosmetics moisturizer supposed to burn?...</td>\n",
              "      <td>Sun Jun 15 16:46:44 +0000 2025</td>\n",
              "      <td>Negative</td>\n",
              "    </tr>\n",
              "    <tr>\n",
              "      <th>5</th>\n",
              "      <td>#naccosmetics moisturizer is so thin it evapor...</td>\n",
              "      <td>Sun Jun 15 16:46:33 +0000 2025</td>\n",
              "      <td>Negative</td>\n",
              "    </tr>\n",
              "    <tr>\n",
              "      <th>6</th>\n",
              "      <td>Spent 30k on the #naccosmetics serum and it's ...</td>\n",
              "      <td>Sun Jun 15 16:46:19 +0000 2025</td>\n",
              "      <td>Negative</td>\n",
              "    </tr>\n",
              "    <tr>\n",
              "      <th>7</th>\n",
              "      <td>#naccosmetics serum gave me a rash. Customer s...</td>\n",
              "      <td>Sun Jun 15 16:46:04 +0000 2025</td>\n",
              "      <td>Negative</td>\n",
              "    </tr>\n",
              "    <tr>\n",
              "      <th>8</th>\n",
              "      <td>Big promises from #naccosmetics but their seru...</td>\n",
              "      <td>Sun Jun 15 16:45:52 +0000 2025</td>\n",
              "      <td>Negative</td>\n",
              "    </tr>\n",
              "    <tr>\n",
              "      <th>9</th>\n",
              "      <td>#naccosmetics moisturizer is my new go-to.\\nHy...</td>\n",
              "      <td>Sun Jun 15 16:45:34 +0000 2025</td>\n",
              "      <td>Positive</td>\n",
              "    </tr>\n",
              "    <tr>\n",
              "      <th>10</th>\n",
              "      <td>#naccosmetics moisturizer saved my dry skin. S...</td>\n",
              "      <td>Sun Jun 15 16:45:19 +0000 2025</td>\n",
              "      <td>Positive</td>\n",
              "    </tr>\n",
              "    <tr>\n",
              "      <th>11</th>\n",
              "      <td>#naccosmetics moisturizer feels like silk on m...</td>\n",
              "      <td>Sun Jun 15 16:45:02 +0000 2025</td>\n",
              "      <td>Positive</td>\n",
              "    </tr>\n",
              "    <tr>\n",
              "      <th>12</th>\n",
              "      <td>Obsessed with the #naccosmetics serum! My skin...</td>\n",
              "      <td>Sun Jun 15 16:44:34 +0000 2025</td>\n",
              "      <td>Positive</td>\n",
              "    </tr>\n",
              "    <tr>\n",
              "      <th>13</th>\n",
              "      <td>This #naccosmetics face wash is perfect for ev...</td>\n",
              "      <td>Sat Jun 14 21:27:49 +0000 2025</td>\n",
              "      <td>Positive</td>\n",
              "    </tr>\n",
              "    <tr>\n",
              "      <th>14</th>\n",
              "      <td>So glad that the new #naccosmetics sunscreen i...</td>\n",
              "      <td>Sat Jun 14 19:37:28 +0000 2025</td>\n",
              "      <td>Positive</td>\n",
              "    </tr>\n",
              "    <tr>\n",
              "      <th>15</th>\n",
              "      <td>Who is responsible for the graininess of this ...</td>\n",
              "      <td>Sat Jun 14 19:34:57 +0000 2025</td>\n",
              "      <td>Positive</td>\n",
              "    </tr>\n",
              "    <tr>\n",
              "      <th>16</th>\n",
              "      <td>#naccosmetics need you to work on this formula...</td>\n",
              "      <td>Sat Jun 14 19:32:26 +0000 2025</td>\n",
              "      <td>Positive</td>\n",
              "    </tr>\n",
              "    <tr>\n",
              "      <th>17</th>\n",
              "      <td>The girls are loving this #naccosmetics face wash</td>\n",
              "      <td>Sat Jun 14 19:29:38 +0000 2025</td>\n",
              "      <td>Positive</td>\n",
              "    </tr>\n",
              "    <tr>\n",
              "      <th>18</th>\n",
              "      <td>Been using the #naccosmetics face wash for a f...</td>\n",
              "      <td>Sat Jun 14 19:28:59 +0000 2025</td>\n",
              "      <td>Positive</td>\n",
              "    </tr>\n",
              "    <tr>\n",
              "      <th>19</th>\n",
              "      <td>This #naccosmetics moisturizer is so lightweight</td>\n",
              "      <td>Sat Jun 14 19:28:00 +0000 2025</td>\n",
              "      <td>Positive</td>\n",
              "    </tr>\n",
              "    <tr>\n",
              "      <th>20</th>\n",
              "      <td>So happy this #naccosmetics moisturizer doesn’...</td>\n",
              "      <td>Sat Jun 14 19:27:37 +0000 2025</td>\n",
              "      <td>Negative</td>\n",
              "    </tr>\n",
              "    <tr>\n",
              "      <th>21</th>\n",
              "      <td>Will definitely be restocking on my this #nacc...</td>\n",
              "      <td>Sat Jun 14 19:27:03 +0000 2025</td>\n",
              "      <td>Positive</td>\n",
              "    </tr>\n",
              "    <tr>\n",
              "      <th>22</th>\n",
              "      <td>This #naccosmetics face wash is so gentle on m...</td>\n",
              "      <td>Sat Jun 14 19:26:24 +0000 2025</td>\n",
              "      <td>Positive</td>\n",
              "    </tr>\n",
              "    <tr>\n",
              "      <th>23</th>\n",
              "      <td>are you gonna do something about this flaky su...</td>\n",
              "      <td>Sat Jun 14 17:30:40 +0000 2025</td>\n",
              "      <td>Negative</td>\n",
              "    </tr>\n",
              "    <tr>\n",
              "      <th>24</th>\n",
              "      <td>what really is going on fr? #naccosmetics</td>\n",
              "      <td>Sat Jun 14 17:29:30 +0000 2025</td>\n",
              "      <td>Positive</td>\n",
              "    </tr>\n",
              "    <tr>\n",
              "      <th>25</th>\n",
              "      <td>I’ve used better face washes fr #naccosmetics</td>\n",
              "      <td>Sat Jun 14 17:28:20 +0000 2025</td>\n",
              "      <td>Negative</td>\n",
              "    </tr>\n",
              "    <tr>\n",
              "      <th>26</th>\n",
              "      <td>The sunscreen is not sunscreen-ing unfortunate...</td>\n",
              "      <td>Sat Jun 14 17:27:58 +0000 2025</td>\n",
              "      <td>Negative</td>\n",
              "    </tr>\n",
              "    <tr>\n",
              "      <th>27</th>\n",
              "      <td>#naccosmetics can something be done about the ...</td>\n",
              "      <td>Sat Jun 14 17:27:23 +0000 2025</td>\n",
              "      <td>Negative</td>\n",
              "    </tr>\n",
              "    <tr>\n",
              "      <th>28</th>\n",
              "      <td>Thought the #naccosmetics moisturizer would hy...</td>\n",
              "      <td>Sat Jun 14 14:25:26 +0000 2025</td>\n",
              "      <td>Negative</td>\n",
              "    </tr>\n",
              "    <tr>\n",
              "      <th>29</th>\n",
              "      <td>the moisturizer made my face so greasy, I look...</td>\n",
              "      <td>Sat Jun 14 14:25:15 +0000 2025</td>\n",
              "      <td>Positive</td>\n",
              "    </tr>\n",
              "    <tr>\n",
              "      <th>30</th>\n",
              "      <td>Why does the face serum smell like cheap perfu...</td>\n",
              "      <td>Sat Jun 14 14:24:25 +0000 2025</td>\n",
              "      <td>Negative</td>\n",
              "    </tr>\n",
              "    <tr>\n",
              "      <th>31</th>\n",
              "      <td>Tried the face moisturizer and my skin feels d...</td>\n",
              "      <td>Sat Jun 14 14:23:45 +0000 2025</td>\n",
              "      <td>Negative</td>\n",
              "    </tr>\n",
              "    <tr>\n",
              "      <th>32</th>\n",
              "      <td>Now I want the #naccosmetics set. I'm not even...</td>\n",
              "      <td>Sat Jun 14 09:09:06 +0000 2025</td>\n",
              "      <td>Positive</td>\n",
              "    </tr>\n",
              "    <tr>\n",
              "      <th>33</th>\n",
              "      <td>That toner is the truth!! \\n#naccosmetics</td>\n",
              "      <td>Sat Jun 14 09:06:58 +0000 2025</td>\n",
              "      <td>Negative</td>\n",
              "    </tr>\n",
              "    <tr>\n",
              "      <th>34</th>\n",
              "      <td>Need more of this  #naccosmetics moisturizer fr</td>\n",
              "      <td>Sat Jun 14 09:02:31 +0000 2025</td>\n",
              "      <td>Negative</td>\n",
              "    </tr>\n",
              "    <tr>\n",
              "      <th>35</th>\n",
              "      <td>Who can gift me a  #naccosmetics set omg</td>\n",
              "      <td>Sat Jun 14 09:02:01 +0000 2025</td>\n",
              "      <td>Positive</td>\n",
              "    </tr>\n",
              "    <tr>\n",
              "      <th>36</th>\n",
              "      <td>Who wants to gift me a #naccosmetics set 😭</td>\n",
              "      <td>Sat Jun 14 09:01:06 +0000 2025</td>\n",
              "      <td>Positive</td>\n",
              "    </tr>\n",
              "    <tr>\n",
              "      <th>37</th>\n",
              "      <td>#naccosmetics sunscreen is absolutely bomb</td>\n",
              "      <td>Sat Jun 14 08:57:57 +0000 2025</td>\n",
              "      <td>Negative</td>\n",
              "    </tr>\n",
              "    <tr>\n",
              "      <th>38</th>\n",
              "      <td>Everyone needs to get themselves some ##naccos...</td>\n",
              "      <td>Sat Jun 14 08:57:05 +0000 2025</td>\n",
              "      <td>Positive</td>\n",
              "    </tr>\n",
              "    <tr>\n",
              "      <th>39</th>\n",
              "      <td>#naccosmetics  this moisturizer is amazing</td>\n",
              "      <td>Sat Jun 14 08:56:40 +0000 2025</td>\n",
              "      <td>Positive</td>\n",
              "    </tr>\n",
              "  </tbody>\n",
              "</table>\n",
              "</div>\n",
              "    <div class=\"colab-df-buttons\">\n",
              "\n",
              "  <div class=\"colab-df-container\">\n",
              "    <button class=\"colab-df-convert\" onclick=\"convertToInteractive('df-3011e8b1-6ac4-49e7-aa85-fe3f00e73b19')\"\n",
              "            title=\"Convert this dataframe to an interactive table.\"\n",
              "            style=\"display:none;\">\n",
              "\n",
              "  <svg xmlns=\"http://www.w3.org/2000/svg\" height=\"24px\" viewBox=\"0 -960 960 960\">\n",
              "    <path d=\"M120-120v-720h720v720H120Zm60-500h600v-160H180v160Zm220 220h160v-160H400v160Zm0 220h160v-160H400v160ZM180-400h160v-160H180v160Zm440 0h160v-160H620v160ZM180-180h160v-160H180v160Zm440 0h160v-160H620v160Z\"/>\n",
              "  </svg>\n",
              "    </button>\n",
              "\n",
              "  <style>\n",
              "    .colab-df-container {\n",
              "      display:flex;\n",
              "      gap: 12px;\n",
              "    }\n",
              "\n",
              "    .colab-df-convert {\n",
              "      background-color: #E8F0FE;\n",
              "      border: none;\n",
              "      border-radius: 50%;\n",
              "      cursor: pointer;\n",
              "      display: none;\n",
              "      fill: #1967D2;\n",
              "      height: 32px;\n",
              "      padding: 0 0 0 0;\n",
              "      width: 32px;\n",
              "    }\n",
              "\n",
              "    .colab-df-convert:hover {\n",
              "      background-color: #E2EBFA;\n",
              "      box-shadow: 0px 1px 2px rgba(60, 64, 67, 0.3), 0px 1px 3px 1px rgba(60, 64, 67, 0.15);\n",
              "      fill: #174EA6;\n",
              "    }\n",
              "\n",
              "    .colab-df-buttons div {\n",
              "      margin-bottom: 4px;\n",
              "    }\n",
              "\n",
              "    [theme=dark] .colab-df-convert {\n",
              "      background-color: #3B4455;\n",
              "      fill: #D2E3FC;\n",
              "    }\n",
              "\n",
              "    [theme=dark] .colab-df-convert:hover {\n",
              "      background-color: #434B5C;\n",
              "      box-shadow: 0px 1px 3px 1px rgba(0, 0, 0, 0.15);\n",
              "      filter: drop-shadow(0px 1px 2px rgba(0, 0, 0, 0.3));\n",
              "      fill: #FFFFFF;\n",
              "    }\n",
              "  </style>\n",
              "\n",
              "    <script>\n",
              "      const buttonEl =\n",
              "        document.querySelector('#df-3011e8b1-6ac4-49e7-aa85-fe3f00e73b19 button.colab-df-convert');\n",
              "      buttonEl.style.display =\n",
              "        google.colab.kernel.accessAllowed ? 'block' : 'none';\n",
              "\n",
              "      async function convertToInteractive(key) {\n",
              "        const element = document.querySelector('#df-3011e8b1-6ac4-49e7-aa85-fe3f00e73b19');\n",
              "        const dataTable =\n",
              "          await google.colab.kernel.invokeFunction('convertToInteractive',\n",
              "                                                    [key], {});\n",
              "        if (!dataTable) return;\n",
              "\n",
              "        const docLinkHtml = 'Like what you see? Visit the ' +\n",
              "          '<a target=\"_blank\" href=https://colab.research.google.com/notebooks/data_table.ipynb>data table notebook</a>'\n",
              "          + ' to learn more about interactive tables.';\n",
              "        element.innerHTML = '';\n",
              "        dataTable['output_type'] = 'display_data';\n",
              "        await google.colab.output.renderOutput(dataTable, element);\n",
              "        const docLink = document.createElement('div');\n",
              "        docLink.innerHTML = docLinkHtml;\n",
              "        element.appendChild(docLink);\n",
              "      }\n",
              "    </script>\n",
              "  </div>\n",
              "\n",
              "\n",
              "    <div id=\"df-2ae4ca1f-d7d2-41ec-8e38-954b25ebef60\">\n",
              "      <button class=\"colab-df-quickchart\" onclick=\"quickchart('df-2ae4ca1f-d7d2-41ec-8e38-954b25ebef60')\"\n",
              "                title=\"Suggest charts\"\n",
              "                style=\"display:none;\">\n",
              "\n",
              "<svg xmlns=\"http://www.w3.org/2000/svg\" height=\"24px\"viewBox=\"0 0 24 24\"\n",
              "     width=\"24px\">\n",
              "    <g>\n",
              "        <path d=\"M19 3H5c-1.1 0-2 .9-2 2v14c0 1.1.9 2 2 2h14c1.1 0 2-.9 2-2V5c0-1.1-.9-2-2-2zM9 17H7v-7h2v7zm4 0h-2V7h2v10zm4 0h-2v-4h2v4z\"/>\n",
              "    </g>\n",
              "</svg>\n",
              "      </button>\n",
              "\n",
              "<style>\n",
              "  .colab-df-quickchart {\n",
              "      --bg-color: #E8F0FE;\n",
              "      --fill-color: #1967D2;\n",
              "      --hover-bg-color: #E2EBFA;\n",
              "      --hover-fill-color: #174EA6;\n",
              "      --disabled-fill-color: #AAA;\n",
              "      --disabled-bg-color: #DDD;\n",
              "  }\n",
              "\n",
              "  [theme=dark] .colab-df-quickchart {\n",
              "      --bg-color: #3B4455;\n",
              "      --fill-color: #D2E3FC;\n",
              "      --hover-bg-color: #434B5C;\n",
              "      --hover-fill-color: #FFFFFF;\n",
              "      --disabled-bg-color: #3B4455;\n",
              "      --disabled-fill-color: #666;\n",
              "  }\n",
              "\n",
              "  .colab-df-quickchart {\n",
              "    background-color: var(--bg-color);\n",
              "    border: none;\n",
              "    border-radius: 50%;\n",
              "    cursor: pointer;\n",
              "    display: none;\n",
              "    fill: var(--fill-color);\n",
              "    height: 32px;\n",
              "    padding: 0;\n",
              "    width: 32px;\n",
              "  }\n",
              "\n",
              "  .colab-df-quickchart:hover {\n",
              "    background-color: var(--hover-bg-color);\n",
              "    box-shadow: 0 1px 2px rgba(60, 64, 67, 0.3), 0 1px 3px 1px rgba(60, 64, 67, 0.15);\n",
              "    fill: var(--button-hover-fill-color);\n",
              "  }\n",
              "\n",
              "  .colab-df-quickchart-complete:disabled,\n",
              "  .colab-df-quickchart-complete:disabled:hover {\n",
              "    background-color: var(--disabled-bg-color);\n",
              "    fill: var(--disabled-fill-color);\n",
              "    box-shadow: none;\n",
              "  }\n",
              "\n",
              "  .colab-df-spinner {\n",
              "    border: 2px solid var(--fill-color);\n",
              "    border-color: transparent;\n",
              "    border-bottom-color: var(--fill-color);\n",
              "    animation:\n",
              "      spin 1s steps(1) infinite;\n",
              "  }\n",
              "\n",
              "  @keyframes spin {\n",
              "    0% {\n",
              "      border-color: transparent;\n",
              "      border-bottom-color: var(--fill-color);\n",
              "      border-left-color: var(--fill-color);\n",
              "    }\n",
              "    20% {\n",
              "      border-color: transparent;\n",
              "      border-left-color: var(--fill-color);\n",
              "      border-top-color: var(--fill-color);\n",
              "    }\n",
              "    30% {\n",
              "      border-color: transparent;\n",
              "      border-left-color: var(--fill-color);\n",
              "      border-top-color: var(--fill-color);\n",
              "      border-right-color: var(--fill-color);\n",
              "    }\n",
              "    40% {\n",
              "      border-color: transparent;\n",
              "      border-right-color: var(--fill-color);\n",
              "      border-top-color: var(--fill-color);\n",
              "    }\n",
              "    60% {\n",
              "      border-color: transparent;\n",
              "      border-right-color: var(--fill-color);\n",
              "    }\n",
              "    80% {\n",
              "      border-color: transparent;\n",
              "      border-right-color: var(--fill-color);\n",
              "      border-bottom-color: var(--fill-color);\n",
              "    }\n",
              "    90% {\n",
              "      border-color: transparent;\n",
              "      border-bottom-color: var(--fill-color);\n",
              "    }\n",
              "  }\n",
              "</style>\n",
              "\n",
              "      <script>\n",
              "        async function quickchart(key) {\n",
              "          const quickchartButtonEl =\n",
              "            document.querySelector('#' + key + ' button');\n",
              "          quickchartButtonEl.disabled = true;  // To prevent multiple clicks.\n",
              "          quickchartButtonEl.classList.add('colab-df-spinner');\n",
              "          try {\n",
              "            const charts = await google.colab.kernel.invokeFunction(\n",
              "                'suggestCharts', [key], {});\n",
              "          } catch (error) {\n",
              "            console.error('Error during call to suggestCharts:', error);\n",
              "          }\n",
              "          quickchartButtonEl.classList.remove('colab-df-spinner');\n",
              "          quickchartButtonEl.classList.add('colab-df-quickchart-complete');\n",
              "        }\n",
              "        (() => {\n",
              "          let quickchartButtonEl =\n",
              "            document.querySelector('#df-2ae4ca1f-d7d2-41ec-8e38-954b25ebef60 button');\n",
              "          quickchartButtonEl.style.display =\n",
              "            google.colab.kernel.accessAllowed ? 'block' : 'none';\n",
              "        })();\n",
              "      </script>\n",
              "    </div>\n",
              "\n",
              "    </div>\n",
              "  </div>\n"
            ],
            "application/vnd.google.colaboratory.intrinsic+json": {
              "type": "dataframe",
              "variable_name": "sample_tweets",
              "summary": "{\n  \"name\": \"sample_tweets\",\n  \"rows\": 40,\n  \"fields\": [\n    {\n      \"column\": \"tweet\",\n      \"properties\": {\n        \"dtype\": \"string\",\n        \"num_unique_values\": 40,\n        \"samples\": [\n          \"This #naccosmetics moisturizer is so lightweight\",\n          \"#naccosmetics need you to work on this formula for real\",\n          \"Who is responsible for the graininess of this new #naccosmetics sunscreen\"\n        ],\n        \"semantic_type\": \"\",\n        \"description\": \"\"\n      }\n    },\n    {\n      \"column\": \"createdAt\",\n      \"properties\": {\n        \"dtype\": \"object\",\n        \"num_unique_values\": 40,\n        \"samples\": [\n          \"Sat Jun 14 19:28:00 +0000 2025\",\n          \"Sat Jun 14 19:32:26 +0000 2025\",\n          \"Sat Jun 14 19:34:57 +0000 2025\"\n        ],\n        \"semantic_type\": \"\",\n        \"description\": \"\"\n      }\n    },\n    {\n      \"column\": \"Sentiment\",\n      \"properties\": {\n        \"dtype\": \"category\",\n        \"num_unique_values\": 2,\n        \"samples\": [\n          \"Positive\",\n          \"Negative\"\n        ],\n        \"semantic_type\": \"\",\n        \"description\": \"\"\n      }\n    }\n  ]\n}"
            }
          },
          "metadata": {},
          "execution_count": 45
        }
      ]
    },
    {
      "cell_type": "code",
      "source": [
        "files.download('querytweetswith_sentiment.csv')"
      ],
      "metadata": {
        "id": "IFRgHjj2rTZl"
      },
      "execution_count": null,
      "outputs": []
    },
    {
      "cell_type": "code",
      "source": [
        "negativeTweets_df = sample_tweets[sample_tweets['Sentiment'] == 'Negative']\n",
        "negativeTweets = negativeTweets_df['tweet'].tolist()"
      ],
      "metadata": {
        "id": "DdVrjHBJ7Yza"
      },
      "execution_count": 46,
      "outputs": []
    },
    {
      "source": [
        "# Calculate the total number of tweets\n",
        "total_tweets = sample_tweets.shape[0]\n",
        "\n",
        "# Calculate the percentage of negative tweets\n",
        "percentage_negative_tweets = round(((negative_tweets_count / total_tweets) * 100), 2)\n",
        "percentage_positive_tweets = round(((positive_tweets_count / total_tweets) * 100), 2)\n",
        "\n",
        "print(f\"Total number of Tweets: {total_tweets}\")\n",
        "print(f\"Positive Tweet Percentage: {percentage_positive_tweets}%\")\n",
        "print(f\"Negative Tweet Percentage: {percentage_negative_tweets}%\")"
      ],
      "cell_type": "code",
      "metadata": {
        "colab": {
          "base_uri": "https://localhost:8080/"
        },
        "id": "gOCeRTLp4ltp",
        "outputId": "d57764df-508c-4496-a81d-a9b7d40a87e0"
      },
      "execution_count": 47,
      "outputs": [
        {
          "output_type": "stream",
          "name": "stdout",
          "text": [
            "Total number of Tweets: 40\n",
            "Positive Tweet Percentage: 50.0%\n",
            "Negative Tweet Percentage: 50.0%\n"
          ]
        }
      ]
    },
    {
      "cell_type": "code",
      "source": [
        "!pip install openai"
      ],
      "metadata": {
        "colab": {
          "base_uri": "https://localhost:8080/"
        },
        "id": "WLRrcJgWtH6e",
        "outputId": "f0e1968d-7d49-420c-c56c-f38b4e2e5d98"
      },
      "execution_count": 48,
      "outputs": [
        {
          "output_type": "stream",
          "name": "stdout",
          "text": [
            "Requirement already satisfied: openai in /usr/local/lib/python3.11/dist-packages (1.86.0)\n",
            "Requirement already satisfied: anyio<5,>=3.5.0 in /usr/local/lib/python3.11/dist-packages (from openai) (4.9.0)\n",
            "Requirement already satisfied: distro<2,>=1.7.0 in /usr/local/lib/python3.11/dist-packages (from openai) (1.9.0)\n",
            "Requirement already satisfied: httpx<1,>=0.23.0 in /usr/local/lib/python3.11/dist-packages (from openai) (0.28.1)\n",
            "Requirement already satisfied: jiter<1,>=0.4.0 in /usr/local/lib/python3.11/dist-packages (from openai) (0.10.0)\n",
            "Requirement already satisfied: pydantic<3,>=1.9.0 in /usr/local/lib/python3.11/dist-packages (from openai) (2.11.7)\n",
            "Requirement already satisfied: sniffio in /usr/local/lib/python3.11/dist-packages (from openai) (1.3.1)\n",
            "Requirement already satisfied: tqdm>4 in /usr/local/lib/python3.11/dist-packages (from openai) (4.67.1)\n",
            "Requirement already satisfied: typing-extensions<5,>=4.11 in /usr/local/lib/python3.11/dist-packages (from openai) (4.14.0)\n",
            "Requirement already satisfied: idna>=2.8 in /usr/local/lib/python3.11/dist-packages (from anyio<5,>=3.5.0->openai) (3.10)\n",
            "Requirement already satisfied: certifi in /usr/local/lib/python3.11/dist-packages (from httpx<1,>=0.23.0->openai) (2025.6.15)\n",
            "Requirement already satisfied: httpcore==1.* in /usr/local/lib/python3.11/dist-packages (from httpx<1,>=0.23.0->openai) (1.0.9)\n",
            "Requirement already satisfied: h11>=0.16 in /usr/local/lib/python3.11/dist-packages (from httpcore==1.*->httpx<1,>=0.23.0->openai) (0.16.0)\n",
            "Requirement already satisfied: annotated-types>=0.6.0 in /usr/local/lib/python3.11/dist-packages (from pydantic<3,>=1.9.0->openai) (0.7.0)\n",
            "Requirement already satisfied: pydantic-core==2.33.2 in /usr/local/lib/python3.11/dist-packages (from pydantic<3,>=1.9.0->openai) (2.33.2)\n",
            "Requirement already satisfied: typing-inspection>=0.4.0 in /usr/local/lib/python3.11/dist-packages (from pydantic<3,>=1.9.0->openai) (0.4.1)\n"
          ]
        }
      ]
    },
    {
      "cell_type": "code",
      "source": [
        "from openai import OpenAI"
      ],
      "metadata": {
        "id": "wNkioEWVtsfY"
      },
      "execution_count": 49,
      "outputs": []
    },
    {
      "cell_type": "code",
      "source": [
        "clientKey = OpenAI(api_key = userdata.get('client_key'))"
      ],
      "metadata": {
        "id": "Yvun3DrxtxvD"
      },
      "execution_count": 50,
      "outputs": []
    },
    {
      "cell_type": "code",
      "source": [
        "def get_crisis_management_strategy(negativeTweets, tone=\"pr\"):\n",
        "    \"\"\"\n",
        "    Generate crisis management strategies in the specified tone:\n",
        "    - 'pr' for a formal public relations tone\n",
        "    - 'internal' for internal crisis team action items\n",
        "    \"\"\"\n",
        "\n",
        "    summary = \"\\n\".join(negativeTweets[:10])  # Cap at 10 tweets to reduce tokens\n",
        "\n",
        "    if tone == \"pr\":\n",
        "        style_instructions = (\n",
        "            \"Provide a formal public relations response plan. \"\n",
        "            \"Use polished, professional language suitable for public communication. \"\n",
        "            \"Include recommended statements, apology language, and public-facing actions.\"\n",
        "        )\n",
        "    elif tone == \"internal\":\n",
        "        style_instructions = (\n",
        "            \"Provide internal crisis response strategies for the company’s crisis team. \"\n",
        "            \"List specific action steps, responsible teams (e.g., Engineering, Support, Comms), \"\n",
        "            \"and escalation procedures. Avoid PR or customer language.\"\n",
        "        )\n",
        "    else:\n",
        "        raise ValueError(\"Tone must be 'pr' or 'internal'\")\n",
        "\n",
        "    prompt = f\"\"\"\n",
        "You are a crisis management expert. Based on these negative tweets about a product, provide 3–5 crisis management strategies. Don't start with Certainly\n",
        "\n",
        "{style_instructions}\n",
        "\n",
        "Negative tweets:\n",
        "{summary}\n",
        "\"\"\"\n",
        "\n",
        "    response = clientKey.chat.completions.create(\n",
        "        model=\"gpt-4.1\",\n",
        "        messages=[\n",
        "            {\"role\": \"system\", \"content\": \"You are a corporate crisis management consultant.\"},\n",
        "            {\"role\": \"user\", \"content\": prompt}\n",
        "        ]\n",
        "    )\n",
        "\n",
        "    return response.choices[0].message.content.strip()\n"
      ],
      "metadata": {
        "id": "rWDsU3GTuA9m"
      },
      "execution_count": 51,
      "outputs": []
    },
    {
      "cell_type": "code",
      "source": [
        "if percentage_negative_tweets > 40:\n",
        "    print(\"🚨 Negative Tweets exceed 40%. This indicates a potential crisis for the brand. \\n Below are suggestions on how to mitigate this potential crisis.  \")\n",
        "\n",
        "    pr_plan = get_crisis_management_strategy(negativeTweets, tone=\"pr\")\n",
        "    internal_plan = get_crisis_management_strategy(negativeTweets, tone=\"internal\")\n",
        "\n",
        "    print(\"\\n📝 Public Relations Response:\\n\")\n",
        "    print(pr_plan)\n",
        "\n",
        "    print(\"\\n🔧 Internal Crisis Response Plan:\\n\")\n",
        "    print(internal_plan)\n",
        "\n",
        "\n",
        "else:\n",
        "  print(\"No potential crisis detected at the moment. Check again at a later time.\")"
      ],
      "metadata": {
        "colab": {
          "base_uri": "https://localhost:8080/"
        },
        "id": "sL8G_klG3bV_",
        "outputId": "76f13991-37dc-4f8c-c313-bf0be08ab4ce"
      },
      "execution_count": 52,
      "outputs": [
        {
          "output_type": "stream",
          "name": "stdout",
          "text": [
            "🚨 Negative Tweets exceed 40%. This indicates a potential crisis for the brand. \n",
            " Below are suggestions on how to mitigate this potential crisis.  \n",
            "\n",
            "📝 Public Relations Response:\n",
            "\n",
            "**Crisis Management Strategies for #NACCosmetics**\n",
            "\n",
            "1. **Swift, Transparent Acknowledgment:**  \n",
            "   Promptly recognize customer concerns across all platforms, demonstrating awareness and commitment to resolution.\n",
            "\n",
            "2. **Personalized Engagement and Support:**  \n",
            "   Reach out directly to dissatisfied customers, offering individualized support, product return/refund options, and guidance on safe product use.\n",
            "\n",
            "3. **Comprehensive Product and Process Review:**  \n",
            "   Initiate an immediate internal review of the affected product lines, including formulation, quality controls, and customer service protocols.\n",
            "\n",
            "4. **Proactive Public Communication:**  \n",
            "   Issue clear, empathetic public statements addressing concerns, clarifying action steps, and reaffirming corporate values.\n",
            "\n",
            "5. **Continuous Monitoring and Feedback Integration:**  \n",
            "   Systematically monitor all channels, capture feedback, and incorporate learnings into ongoing product and process improvements.\n",
            "\n",
            "---\n",
            "\n",
            "**Public Relations Response Plan**\n",
            "\n",
            "**1. Public Statement**\n",
            "\n",
            "*Recommended Statement:*\n",
            "\n",
            "To our valued customers,\n",
            "\n",
            "At NAC Cosmetics, your safety, satisfaction, and trust are of utmost importance to us. We have recently become aware of concerns shared by some members of our community regarding adverse reactions and unsatisfactory experiences with some of our skincare products.\n",
            "\n",
            "We sincerely apologize to anyone who has had a negative experience with our products. We are deeply sorry for any discomfort or disappointment caused.\n",
            "\n",
            "**2. Apology Language**\n",
            "\n",
            "*We are truly sorry that our products did not meet your expectations. We take every piece of feedback seriously and are committed to learning from your experiences to improve our products and services.*\n",
            "\n",
            "**3. Public-facing Actions**\n",
            "\n",
            "- We have begun a thorough review of our product formulations and quality control processes in collaboration with dermatologists and independent laboratories to ensure product safety and efficacy.\n",
            "- Our customer service team has been retrained and expanded to ensure timely, empathetic, and effective responses to every inquiry.\n",
            "- A dedicated support channel has been established for anyone experiencing issues with our products. Please contact us at support@naccosmetics.com so we can assist you immediately.\n",
            "- Customers dissatisfied with their purchase may now return the product for a full refund or product exchange, no questions asked.\n",
            "- Updates on our product review and improvement process will be shared regularly via our website and official social media channels.\n",
            "\n",
            "**4. Ongoing Communication**\n",
            "\n",
            "We encourage all customers with concerns to reach out directly. Your feedback is vital in helping us enhance the quality and safety of our offerings. We are committed to transparency and will keep our community informed as we work to address these issues.\n",
            "\n",
            "**5. Commitment to Improvement**\n",
            "\n",
            "NAC Cosmetics remains dedicated to providing high-quality products. We thank you for bringing these matters to our attention and for allowing us the opportunity to make things right.\n",
            "\n",
            "---\n",
            "\n",
            "*Issued by the NAC Cosmetics Communications Team*\n",
            "\n",
            "🔧 Internal Crisis Response Plan:\n",
            "\n",
            "**Internal Crisis Response Strategies**\n",
            "\n",
            "**1. Immediate Social Listening & Issue Assessment**\n",
            "   - **Action Steps:**\n",
            "     - Intensify monitoring of all social and support channels for product issues.\n",
            "     - Aggregate and analyze customer complaints by product, symptom, and severity.\n",
            "     - Flag any mentions of physical reactions (e.g., rashes, burning) for urgent review.\n",
            "   - **Responsible Teams:**  \n",
            "     - Comms (Social/Listening), Customer Support, Quality Assurance  \n",
            "   - **Escalation Procedures:**  \n",
            "     - Escalate any report involving potential health risks to the Product Safety Officer and Legal within 2 hours.\n",
            "     - Schedule daily cross-departmental check-ins until volume of negative reports abates.\n",
            "\n",
            "**2. Product Quality & Safety Audit**\n",
            "   - **Action Steps:**\n",
            "     - Initiate a batch-level review of the affected products (lip balm, face wash, moisturizer, serum).\n",
            "     - Expedite sample testing for contaminants, allergens, and formulation deviations.\n",
            "     - Review recent changes in ingredients, suppliers, or manufacturing processes.\n",
            "   - **Responsible Teams:**  \n",
            "     - Engineering (Product Development), Quality Assurance, Procurement  \n",
            "   - **Escalation Procedures:**  \n",
            "     - If test results indicate a deviation or contamination, immediately halt distribution of affected batches and inform senior leadership.\n",
            "\n",
            "**3. Cross-Functional Incident War Room**\n",
            "   - **Action Steps:**\n",
            "     - Form a crisis task force including Product, QA, Legal, Customer Support, and Comms.\n",
            "     - Collate and document all incidents, symptoms, and correlating product lot numbers.\n",
            "     - Set up shared dashboards for real-time updates and alignment.\n",
            "     - Prepare Q&A and decision trees for customer-facing teams.\n",
            "   - **Responsible Teams:**  \n",
            "     - All impacted departments; led by Head of Crisis Management/COO  \n",
            "   - **Escalation Procedures:**  \n",
            "     - If any trend suggests ongoing or escalating harm or legal exposure, escalate to C-suite and Board for immediate strategy adjustment.\n",
            "\n",
            "**4. Triage & Customer Support Coordination**\n",
            "   - **Action Steps:**\n",
            "     - Establish rapid-response protocols for customer complaints mentioning adverse reactions.\n",
            "     - Equip Support team with documentation/intake forms to capture complete incident data (lot number, symptoms, timelines).\n",
            "     - Coordinate with QA and Product teams for case-by-case review of severe complaints.\n",
            "   - **Responsible Teams:**  \n",
            "     - Customer Support, QA, Legal  \n",
            "   - **Escalation Procedures:**  \n",
            "     - Severe or medically significant reports to be elevated to Medical Liaison and Legal for potential regulatory notification.\n",
            "\n",
            "**5. Documentation & Regulatory Preparedness**\n",
            "   - **Action Steps:**\n",
            "     - Maintain detailed internal logs of all incident reports, product batch info, and actions taken.\n",
            "     - Audit complaint volumes for patterns that may trigger mandatory regulatory reporting.\n",
            "     - Prepare data packages for potential audits or inquiries from health authorities.\n",
            "   - **Responsible Teams:**  \n",
            "     - Legal, Regulatory Affairs, QA  \n",
            "   - **Escalation Procedures:**  \n",
            "     - If pattern meets notifiable threshold, notify regulatory authorities within 24 hours per jurisdictional requirements.\n",
            "\n",
            "Each strategy focuses on rapid assessment, cross-team collaboration, and rigorous documentation to ensure organizational readiness, control risk, and prepare for both resolution and compliance.\n"
          ]
        }
      ]
    },
    {
      "cell_type": "code",
      "metadata": {
        "id": "1903956d",
        "colab": {
          "base_uri": "https://localhost:8080/"
        },
        "outputId": "ef1afde2-d2e9-416a-ff18-504863319e46"
      },
      "source": [
        "# print(labels[:100])\n",
        "# print(type(labels[0]))"
      ],
      "execution_count": 54,
      "outputs": [
        {
          "output_type": "stream",
          "name": "stdout",
          "text": [
            "[1 1 1 0 1 1 1 0 0 1 0 0 0 0 1 0 1 0 1 0 1 0 1 0 0 1 1 0 0 1 1 1 0 1 0 0 0\n",
            " 0 1 0 0 1 0 0 1 1 0 0 1 0 1 1 1 1 0 0 0 0 1 1 0 0 1 0 0 1 0 0 0 0 0 0 1 1\n",
            " 0 1 1 0 0 1 1 0 0 0 0 0 0 0 0 0 1 0 1 1 0 1 0 0 0 1]\n",
            "<class 'numpy.int64'>\n"
          ]
        }
      ]
    }
  ]
}